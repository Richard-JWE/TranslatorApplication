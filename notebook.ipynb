{
 "cells": [
  {
   "cell_type": "code",
   "execution_count": 1,
   "id": "56d23a00-e3fb-4f9c-a199-6621dba58b85",
   "metadata": {},
   "outputs": [],
   "source": [
    "from tkinter import *\n",
    "from tkinter import ttk\n",
    "from googletrans import Translator, LANGUAGES"
   ]
  },
  {
   "cell_type": "code",
   "execution_count": 2,
   "id": "856a106e-8d6a-4bec-8e6d-8647afc3b92a",
   "metadata": {},
   "outputs": [],
   "source": [
    "root = Tk()\n",
    "root.geometry('1100x320')\n",
    "root.resizable(0,0)\n",
    "root['bg']= 'skyblue'\n",
    "\n",
    "root.title('language translator by Richard and Simplilearn')\n",
    "Label(root,text = \"Language Translator\", font = \"arial 20 bold\").pack()\n",
    "\n"
   ]
  },
  {
   "cell_type": "code",
   "execution_count": 3,
   "id": "1a741918",
   "metadata": {},
   "outputs": [],
   "source": [
    "Label(root,text = \"Enter Text\", font = 'arial 13 bold', bg='white smoke').place(x=165, y=90)"
   ]
  },
  {
   "cell_type": "code",
   "execution_count": 4,
   "id": "32438485-81c7-49d9-9cdf-8b8e617147bf",
   "metadata": {
    "scrolled": true
   },
   "outputs": [
    {
     "data": {
      "text/plain": [
       "''"
      ]
     },
     "execution_count": 4,
     "metadata": {},
     "output_type": "execute_result"
    }
   ],
   "source": [
    "Input_text = Entry(root, width = 60)\n",
    "Input_text.place(x=30,y=130)\n",
    "Input_text.get()"
   ]
  },
  {
   "cell_type": "code",
   "execution_count": 5,
   "id": "0490b607-6ad3-4090-8ffd-a32a512d151d",
   "metadata": {},
   "outputs": [],
   "source": [
    "Label(root, text = 'Output', font = 'arial 13 bold', bg='white smoke').place(x=780, y=90)\n",
    "Output_text = Text(root, font='arial 10', height = 5, wrap = WORD, padx = 5, pady = 5, width = 50)\n",
    "Output_text.place(x=600, y=130)\n",
    "\n",
    "language = list(LANGUAGES.values())\n",
    "\n",
    "dest_lang= ttk.Combobox(root, values=language, width = 22)\n",
    "dest_lang.place(x=130, y=180)\n",
    "dest_lang.set('choose language')\n",
    "\n",
    "def Translate():\n",
    "    translator = Translator()\n",
    "    translated= translator.translate(text=Input_text.get(), dest = dest_lang.get())\n",
    "    Output_text.delete(1.0, END)\n",
    "    Output_text.insert(END, translated.text)\n",
    "translate_btn=Button(root, text='translate', font='arial 12 bold', pady =5, command=Translate, bg='orange', activebackground='green')\n",
    "translate_btn.place(x=445, y=180)\n",
    "root.mainloop()"
   ]
  },
  {
   "cell_type": "code",
   "execution_count": null,
   "id": "eaeee069-bdc3-4fb2-88ad-549e760d2148",
   "metadata": {},
   "outputs": [],
   "source": []
  }
 ],
 "metadata": {
  "kernelspec": {
   "display_name": "Python 3 (ipykernel)",
   "language": "python",
   "name": "python3"
  },
  "language_info": {
   "codemirror_mode": {
    "name": "ipython",
    "version": 3
   },
   "file_extension": ".py",
   "mimetype": "text/x-python",
   "name": "python",
   "nbconvert_exporter": "python",
   "pygments_lexer": "ipython3",
   "version": "3.9.16"
  }
 },
 "nbformat": 4,
 "nbformat_minor": 5
}
